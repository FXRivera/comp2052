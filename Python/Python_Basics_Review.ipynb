{
 "cells": [
  {
   "cell_type": "markdown",
   "id": "88f66c7a",
   "metadata": {
    "id": "88f66c7a"
   },
   "source": [
    "# Repaso de Python - Jupyter Notebook\n",
    "\n",
    "Este notebook cubre los conceptos fundamentales de Python con teoría y ejemplos prácticos."
   ]
  },
  {
   "cell_type": "markdown",
   "id": "e782b3f5",
   "metadata": {
    "id": "e782b3f5"
   },
   "source": [
    "## 1. Introducción a Python\n",
    "Python es un lenguaje de programación interpretado, de alto nivel y de propósito general. Es ampliamente utilizado en ciencia de datos, desarrollo web, inteligencia artificial y más.\n",
    "\n",
    "**Características de Python:**\n",
    "- Sintaxis simple y legible\n",
    "- Lenguaje interpretado\n",
    "- Tipado dinámico\n",
    "- Soporte para múltiples paradigmas de programación\n",
    "- Amplia comunidad y librerías disponibles"
   ]
  },
  {
   "cell_type": "code",
   "execution_count": null,
   "id": "835bcbb8",
   "metadata": {
    "id": "835bcbb8"
   },
   "outputs": [],
   "source": [
    "# Verificar versión de Python\n",
    "import sys\n",
    "print(sys.version)"
   ]
  },
  {
   "cell_type": "markdown",
   "id": "5dee29e6",
   "metadata": {
    "id": "5dee29e6"
   },
   "source": [
    "## 2. Reglas básicas en Python\n",
    "- Python distingue entre mayúsculas y minúsculas.\n",
    "- La indentación es obligatoria para definir bloques de código.\n",
    "- Cada instrucción se ejecuta en una línea separada."
   ]
  },
  {
   "cell_type": "markdown",
   "id": "6ef7c30e",
   "metadata": {
    "id": "6ef7c30e"
   },
   "source": [
    "## 3. Comentarios en Código\n",
    "Los comentarios ayudan a documentar el código y hacerlo más legible.\n",
    "\n",
    "- Comentarios de una línea: `# Esto es un comentario`\n",
    "- Comentarios de múltiples líneas: `''' comentario '''`"
   ]
  },
  {
   "cell_type": "code",
   "execution_count": null,
   "id": "a40bdcea",
   "metadata": {
    "id": "a40bdcea"
   },
   "outputs": [],
   "source": [
    "# Ejemplo de comentario\n",
    "# Este es un comentario de una línea\n",
    "'''Este es un comentario de varias líneas\n",
    "que documenta secciones del código.'''"
   ]
  },
  {
   "cell_type": "markdown",
   "id": "7iHFgqCpIDiF",
   "metadata": {
    "id": "7iHFgqCpIDiF"
   },
   "source": [
    "### 3.1 Comentarios en el Código de Python\n",
    "\n",
    "- Los comentarios en Python se utilizan para explicar el código y facilitar su comprensión. Para escribir un comentario en Python, se usa el símbolo numeral (#) al principio de la línea.\n"
   ]
  },
  {
   "cell_type": "code",
   "execution_count": null,
   "id": "Tw_5N6bBKDxu",
   "metadata": {
    "id": "Tw_5N6bBKDxu"
   },
   "outputs": [],
   "source": [
    "# Esto es un comentario para una sola línea"
   ]
  },
  {
   "cell_type": "markdown",
   "id": "JEbtP8xcKekg",
   "metadata": {
    "id": "JEbtP8xcKekg"
   },
   "source": [
    "- Para comentar un bloque de código, se puede usar el símbolo # en cada línea del bloque. También se pueden usar comillas triples (\"\"\" o ''') para crear un bloque de texto que actúe como comentario."
   ]
  },
  {
   "cell_type": "code",
   "execution_count": null,
   "id": "b8iHUtTxKQb0",
   "metadata": {
    "id": "b8iHUtTxKQb0"
   },
   "outputs": [],
   "source": [
    "# Los comentarios en una línea pueden estar solos,\n",
    "# ... o al final de una línea de instrucción o comando de Python\n",
    "\n",
    "'''\n",
    "   Los comentarios también pueden ser escritos luego de escribir tres veces de forma seguida la comilla que aparece al lado izquiero del la tecla \"1\". De esta forma es posible poder colocar varias líneas de comentario de forma inenterrumpida.\n",
    "\n",
    "   Para finalizar los comentarios se vuelve a escribir tres veces la misma comilla.\n",
    "'''"
   ]
  },
  {
   "cell_type": "markdown",
   "id": "870d82d8",
   "metadata": {
    "id": "870d82d8"
   },
   "source": [
    "## 4. Operadores Matemáticos y Operaciones"
   ]
  },
  {
   "cell_type": "code",
   "execution_count": 9,
   "id": "cSFigRCTHxZw",
   "metadata": {
    "id": "cSFigRCTHxZw"
   },
   "outputs": [
    {
     "data": {
      "text/plain": [
       "15"
      ]
     },
     "execution_count": 9,
     "metadata": {},
     "output_type": "execute_result"
    }
   ],
   "source": [
    "10 + 5 # Suma"
   ]
  },
  {
   "cell_type": "code",
   "execution_count": 11,
   "id": "LZRVrHSgLFWs",
   "metadata": {
    "id": "LZRVrHSgLFWs"
   },
   "outputs": [
    {
     "data": {
      "text/plain": [
       "5"
      ]
     },
     "execution_count": 11,
     "metadata": {},
     "output_type": "execute_result"
    }
   ],
   "source": [
    "10 - 5 # Resta"
   ]
  },
  {
   "cell_type": "code",
   "execution_count": 13,
   "id": "B4U9Pum2LMRR",
   "metadata": {
    "id": "B4U9Pum2LMRR"
   },
   "outputs": [
    {
     "data": {
      "text/plain": [
       "50"
      ]
     },
     "execution_count": 13,
     "metadata": {},
     "output_type": "execute_result"
    }
   ],
   "source": [
    "10 * 5 # Multiplicación"
   ]
  },
  {
   "cell_type": "code",
   "execution_count": 15,
   "id": "scvkWcvzLIyw",
   "metadata": {
    "id": "scvkWcvzLIyw"
   },
   "outputs": [
    {
     "data": {
      "text/plain": [
       "2.0"
      ]
     },
     "execution_count": 15,
     "metadata": {},
     "output_type": "execute_result"
    }
   ],
   "source": [
    "10 / 5 # División, retorna el cociente de la división"
   ]
  },
  {
   "cell_type": "code",
   "execution_count": 5,
   "id": "A2JMmrU0LhFf",
   "metadata": {
    "id": "A2JMmrU0LhFf"
   },
   "outputs": [
    {
     "data": {
      "text/plain": [
       "0"
      ]
     },
     "execution_count": 5,
     "metadata": {},
     "output_type": "execute_result"
    }
   ],
   "source": [
    "10 % 5 # Módulo, retorna el residual de la división"
   ]
  },
  {
   "cell_type": "code",
   "execution_count": 7,
   "id": "37bcb058-0fe0-4ce2-b774-5b1032f5995c",
   "metadata": {},
   "outputs": [
    {
     "data": {
      "text/plain": [
       "1"
      ]
     },
     "execution_count": 7,
     "metadata": {},
     "output_type": "execute_result"
    }
   ],
   "source": [
    "10 % 3"
   ]
  },
  {
   "cell_type": "markdown",
   "id": "q8hi94bMMMyI",
   "metadata": {
    "id": "q8hi94bMMMyI"
   },
   "source": [
    "![Partes de la División](https://d138zd1ktt9iqe.cloudfront.net/media/seo_landing_files/division-1644212205.png)\n",
    "\n",
    "Tomado de CUEMATH (2025)"
   ]
  },
  {
   "cell_type": "code",
   "execution_count": 17,
   "id": "p8Ta6z1UMyJ1",
   "metadata": {
    "id": "p8Ta6z1UMyJ1"
   },
   "outputs": [
    {
     "data": {
      "text/plain": [
       "3.3333333333333335"
      ]
     },
     "execution_count": 17,
     "metadata": {},
     "output_type": "execute_result"
    }
   ],
   "source": [
    "10 / 3 # Retorna un número flotante (con lugares decimales o número no entero)"
   ]
  },
  {
   "cell_type": "code",
   "execution_count": 19,
   "id": "7AtaCZkbM2mC",
   "metadata": {
    "id": "7AtaCZkbM2mC"
   },
   "outputs": [
    {
     "data": {
      "text/plain": [
       "3"
      ]
     },
     "execution_count": 19,
     "metadata": {},
     "output_type": "execute_result"
    }
   ],
   "source": [
    "10 // 3 # División entera"
   ]
  },
  {
   "cell_type": "code",
   "execution_count": 21,
   "id": "JH0STRHAM-qW",
   "metadata": {
    "id": "JH0STRHAM-qW"
   },
   "outputs": [
    {
     "data": {
      "text/plain": [
       "8"
      ]
     },
     "execution_count": 21,
     "metadata": {},
     "output_type": "execute_result"
    }
   ],
   "source": [
    "2 ** 3 # Potencia, se puede decir 2 elevado a la 3"
   ]
  },
  {
   "cell_type": "code",
   "execution_count": 23,
   "id": "2yRSDb0dNH1E",
   "metadata": {
    "id": "2yRSDb0dNH1E"
   },
   "outputs": [
    {
     "data": {
      "text/plain": [
       "8"
      ]
     },
     "execution_count": 23,
     "metadata": {},
     "output_type": "execute_result"
    }
   ],
   "source": [
    "2 * 2 * 2 # Otra forma de elevar un número a una potencia"
   ]
  },
  {
   "cell_type": "markdown",
   "id": "b9fd9180",
   "metadata": {
    "id": "b9fd9180"
   },
   "source": [
    "## 5. Identificadores (Variables y Constantes)\n",
    "\n",
    "En Python, los identificadores de variables son los nombres que se les dan a las variables para poder acceder a ellas. Los identificadores de variables deben cumplir ciertas condiciones para poder ser utilizados.\n",
    "\n",
    "Condiciones para los identificadores de variables en Python:\n",
    "- Pueden contener letras (mayúsculas y minúsculas), números y guion bajo.\n",
    "- El primer carácter no puede ser un número.\n",
    "- Deben ser descriptivos, el nombre de representar el valor que almacenará.\n",
    "- Deben escribirse en snake_case, es decir, en minúsculas y separando palabras con guion bajo.\n",
    "- No se pueden utilizar palabras reservadas como nombres de variables.\n",
    "- Para definir y asignar valores a las variables en Python se utiliza el símbolo \"=\". Por ejemplo, para asignar el valor 5 a la variable \"a\", se escribe \"a = 5"
   ]
  },
  {
   "cell_type": "code",
   "execution_count": null,
   "id": "6b673ba3",
   "metadata": {
    "id": "6b673ba3"
   },
   "outputs": [],
   "source": [
    "mi_variable = 42  # Variable\n",
    "MI_CONSTANTE = 3.1416  # Constante (convención en mayúsculas)"
   ]
  },
  {
   "cell_type": "markdown",
   "id": "Wq2wPO8TOypF",
   "metadata": {
    "id": "Wq2wPO8TOypF"
   },
   "source": [
    "Para obtener más información sobre Convenciones de Nomenclatura entra [aquí](https://www.aluracursos.com/blog/convenciones-de-nomenclatura-camel-pascal-kebab-snake-case)\n",
    "\n"
   ]
  },
  {
   "cell_type": "markdown",
   "id": "66fcfcac",
   "metadata": {
    "id": "66fcfcac"
   },
   "source": [
    "## 6. Tipos de Datos en Python\n",
    "\n",
    "Los tipos de datos en Python son los tipos de valores que pueden almacenar las variables. Algunos de los tipos de datos que se pueden usar en Python son:\n",
    "\n",
    "- Numéricos: Son los números enteros, los números con decimales y los números complejos.\n",
    "- Cadenas de caracteres: Son los textos que se escriben con caracteres alfanuméricos.\n",
    "- Booleanos: Son los valores que pueden ser True (Verdadero) o False (Falso)."
   ]
  },
  {
   "cell_type": "code",
   "execution_count": 63,
   "id": "bfc14b9c",
   "metadata": {
    "id": "bfc14b9c"
   },
   "outputs": [
    {
     "name": "stdout",
     "output_type": "stream",
     "text": [
      "10\n",
      "25\n",
      "35\n"
     ]
    }
   ],
   "source": [
    "numero = 10\n",
    "texto = \"Hola, Python\" # text = 'Hola, Python'\n",
    "booleano = True\n",
    "flotante = 3.14\n",
    "\n",
    "lista = [10, 25]\n",
    "\n",
    "print(lista[0])\n",
    "print(lista[1])\n",
    "print(lista[0] +  lista[1] )"
   ]
  },
  {
   "cell_type": "code",
   "execution_count": 31,
   "id": "HB0lQ1ZkPzqS",
   "metadata": {
    "id": "HB0lQ1ZkPzqS"
   },
   "outputs": [
    {
     "data": {
      "text/plain": [
       "int"
      ]
     },
     "execution_count": 31,
     "metadata": {},
     "output_type": "execute_result"
    }
   ],
   "source": [
    "type(numero) # determinar el tipo de dato o valor con la función type(numero)"
   ]
  },
  {
   "cell_type": "code",
   "execution_count": 33,
   "id": "ut24gJ-GQkkf",
   "metadata": {
    "id": "ut24gJ-GQkkf"
   },
   "outputs": [
    {
     "data": {
      "text/plain": [
       "str"
      ]
     },
     "execution_count": 33,
     "metadata": {},
     "output_type": "execute_result"
    }
   ],
   "source": [
    "type(texto) # determinar el tipo de dato o valor con la función type(texto)"
   ]
  },
  {
   "cell_type": "code",
   "execution_count": 35,
   "id": "-ORyzBpjQk7K",
   "metadata": {
    "id": "-ORyzBpjQk7K"
   },
   "outputs": [
    {
     "data": {
      "text/plain": [
       "bool"
      ]
     },
     "execution_count": 35,
     "metadata": {},
     "output_type": "execute_result"
    }
   ],
   "source": [
    "type(booleano) # determinar el tipo de dato o valor con la función type(booleano)"
   ]
  },
  {
   "cell_type": "code",
   "execution_count": 37,
   "id": "aGv4EByyQlXU",
   "metadata": {
    "id": "aGv4EByyQlXU"
   },
   "outputs": [
    {
     "data": {
      "text/plain": [
       "float"
      ]
     },
     "execution_count": 37,
     "metadata": {},
     "output_type": "execute_result"
    }
   ],
   "source": [
    "type(flotante) # determinar el tipo de dato o valor con la función type(flotante)"
   ]
  },
  {
   "cell_type": "markdown",
   "id": "9e78101f",
   "metadata": {
    "id": "9e78101f"
   },
   "source": [
    "## 7. Entrada y Salida de Datos"
   ]
  },
  {
   "cell_type": "markdown",
   "id": "QdocfMp2QmqN",
   "metadata": {
    "id": "QdocfMp2QmqN"
   },
   "source": [
    "### 7.1 Salida de Datos con print()\n",
    "\n",
    "La instrucción print() en Python permite mostrar información en la pantalla, como texto, números o resultados."
   ]
  },
  {
   "cell_type": "code",
   "execution_count": 65,
   "id": "mLgTDyzDQvPN",
   "metadata": {
    "id": "mLgTDyzDQvPN"
   },
   "outputs": [
    {
     "name": "stdout",
     "output_type": "stream",
     "text": [
      "Hola, mundo!\n"
     ]
    }
   ],
   "source": [
    "print(\"Hola, mundo!\")"
   ]
  },
  {
   "cell_type": "code",
   "execution_count": 75,
   "id": "AREj1vLJQxJI",
   "metadata": {
    "id": "AREj1vLJQxJI"
   },
   "outputs": [
    {
     "name": "stdout",
     "output_type": "stream",
     "text": [
      "33\n",
      "33\n",
      "Su edad es:  33\n",
      "Su edad es 33\n"
     ]
    }
   ],
   "source": [
    "print(33)\n",
    "\n",
    "edad = 33 # asignar el valor 33 a la variable\n",
    "print(edad) # imprimir el contenido de la variable\n",
    "\n",
    "print(\"Su edad es: \", edad) # imprimir la edad luego de un mensaje\n",
    "\n",
    "print(f\"Su edad es {edad}\") # imprimir la edad con formato o interpolación"
   ]
  },
  {
   "cell_type": "code",
   "execution_count": 85,
   "id": "Hbx-N5QnTHLv",
   "metadata": {
    "id": "Hbx-N5QnTHLv"
   },
   "outputs": [
    {
     "name": "stdout",
     "output_type": "stream",
     "text": [
      "El pago es 10.95\n",
      "El pago es 10.9\n"
     ]
    }
   ],
   "source": [
    "pago = 10.95\n",
    "print(f\"El pago es {pago}\") # imprimir con formato la variable \"pago\"\n",
    "print(f\"El pago es {pago:.1f}\") # imprimir con formato la variable \"pago\" indicando los lugares decimales a incluir"
   ]
  },
  {
   "cell_type": "markdown",
   "id": "CEnIfeQ2RQ36",
   "metadata": {
    "id": "CEnIfeQ2RQ36"
   },
   "source": [
    "### 7.21 Entrada de Datos con input()\n",
    "\n",
    "La función input() en Python es una herramienta que permite a los programadores obtener información de los usuarios.\n",
    "\n",
    "La función input() funciona de la siguiente manera:\n",
    "- Imprime un mensaje en pantalla\n",
    "- Espera a que el usuario escriba una línea de texto\n",
    "- Devuelve la línea de texto escrita por el usuario"
   ]
  },
  {
   "cell_type": "code",
   "execution_count": null,
   "id": "7ddb6fd2",
   "metadata": {
    "id": "7ddb6fd2"
   },
   "outputs": [],
   "source": [
    "nombre = input(\"Ingresa tu nombre: \")\n",
    "print(f\"Hola, {nombre}\")"
   ]
  },
  {
   "cell_type": "markdown",
   "id": "PxB9IQPjRsWz",
   "metadata": {
    "id": "PxB9IQPjRsWz"
   },
   "source": [
    "La función input() siempre va ha retornar un valor de tipo \"string\" o cadena. Es por esto que al solicitar un valor numérico se debe cambiar el tipo de dato para el valor entrado si valor será utilizado en algún proceso matemático posterior."
   ]
  },
  {
   "cell_type": "code",
   "execution_count": null,
   "id": "322txRyER8H0",
   "metadata": {
    "id": "322txRyER8H0"
   },
   "outputs": [],
   "source": [
    "edad = int(input(\"Ingresa tu ead: \"))\n",
    "print(f\"Hola, {nombre} tu edad es {edad}\") # imprimir el valor del nombre (entrado anteriormente) y valor asignado a edad"
   ]
  },
  {
   "cell_type": "markdown",
   "id": "a24dce2e",
   "metadata": {
    "id": "a24dce2e"
   },
   "source": [
    "## 8. Expresiones Lógicas y Operadores Relacionales\n",
    "\n",
    "Las expresiones lógicas son combinaciones de operadores y valores que se evalúan como verdadero o falso. Con utilizadas en programación para determinar si un bloque de código se ejecutará.\n",
    "\n",
    "Las expresiones lógicas equivalen a una pregunta que su respuesta solo puede ser verdadero o false. Una expresión lógica devuelve un valor verdadero (true) cuando al ser evaluada su respuesta a la condición que expresa se cumple.\n",
    "\n",
    "Las expresiones lógicas están compuestas por:\n",
    "- Operadores relacionales\n",
    "- Operadores lógicos, como AND, OR, NOT\n",
    "- Variables\n",
    "- Constantes\n",
    "- Paréntesis\n",
    "- Nombres de funciones"
   ]
  },
  {
   "cell_type": "markdown",
   "id": "B3Udzm3CUr6r",
   "metadata": {
    "id": "B3Udzm3CUr6r"
   },
   "source": [
    "| Operación Relacional | Descripción                        | Ejemplo       | Resultado |\n",
    "|----------------------|----------------------------------|--------------|-----------|\n",
    "| `==`                | Igual a                          | `5 == 5`     | `True`    |\n",
    "| `!=`                | Diferente de                     | `5 != 3`     | `True`    |\n",
    "| `>`                 | Mayor que                        | `10 > 7`     | `True`    |\n",
    "| `<`                 | Menor que                        | `3 < 8`      | `True`    |\n",
    "| `>=`                | Mayor o igual que                | `4 >= 4`     | `True`    |\n",
    "| `<=`                | Menor o igual que                | `2 <= 5`     | `True`    |"
   ]
  },
  {
   "cell_type": "code",
   "execution_count": null,
   "id": "de6Vy-F0Vehc",
   "metadata": {
    "id": "de6Vy-F0Vehc"
   },
   "outputs": [],
   "source": [
    "5 > 3"
   ]
  },
  {
   "cell_type": "code",
   "execution_count": null,
   "id": "YUQIn5jCVf_-",
   "metadata": {
    "id": "YUQIn5jCVf_-"
   },
   "outputs": [],
   "source": [
    "10 < 5"
   ]
  },
  {
   "cell_type": "code",
   "execution_count": null,
   "id": "suSzcGzXVhqJ",
   "metadata": {
    "id": "suSzcGzXVhqJ"
   },
   "outputs": [],
   "source": [
    "x = 10\n",
    "y = x - 2"
   ]
  },
  {
   "cell_type": "code",
   "execution_count": null,
   "id": "N6LpsLgxXCaE",
   "metadata": {
    "id": "N6LpsLgxXCaE"
   },
   "outputs": [],
   "source": [
    "x > y # es x mayor a y?"
   ]
  },
  {
   "cell_type": "code",
   "execution_count": null,
   "id": "QLjDaAeaW2sM",
   "metadata": {
    "id": "QLjDaAeaW2sM"
   },
   "outputs": [],
   "source": [
    "x <= y # es x menor a x?"
   ]
  },
  {
   "cell_type": "code",
   "execution_count": null,
   "id": "kmyktDShW3Gr",
   "metadata": {
    "id": "kmyktDShW3Gr"
   },
   "outputs": [],
   "source": [
    "y != x # es y distinto (no igual) a y"
   ]
  },
  {
   "cell_type": "markdown",
   "id": "bqBh40SYW4Y9",
   "metadata": {
    "id": "bqBh40SYW4Y9"
   },
   "source": [
    "### 8.1 Operadores Lógicos en Python\n",
    "\n",
    "Los operadores lógicos en Python son palabras clave que permiten combinar y evaluar condiciones booleanas. Son herramientas esenciales para controlar el flujo de un programa y tomar decisiones.\n",
    "\n",
    "Los operadores lógicos más comunes en Python son:\n",
    "- and: Devuelve True si ambas expresiones son verdaderas\n",
    "- or: Devuelve True si al menos una expresión es verdadera\n",
    "- not: Invierte el valor de una expresión booleana\n",
    "\n",
    "El orden de aplicación de los operadores puede influir en el resultado.\n",
    "Los operadores lógicos son útiles para crear estructuras de control de flujo condicionales, como declaraciones if y while.\n"
   ]
  },
  {
   "cell_type": "markdown",
   "id": "mcQCnGtRXxS5",
   "metadata": {
    "id": "mcQCnGtRXxS5"
   },
   "source": [
    "| Operador Lógico | Descripción                                | Ejemplo               | Resultado |\n",
    "|----------------|--------------------------------------------|-----------------------|-----------|\n",
    "| `and`         | Devuelve `True` si ambas condiciones son verdaderas | `True and False`      | `False`   |\n",
    "| `or`          | Devuelve `True` si al menos una condición es verdadera | `True or False`       | `True`    |\n",
    "| `not`         | Invierte el valor de verdad de la expresión | `not True`            | `False`   |"
   ]
  },
  {
   "cell_type": "code",
   "execution_count": null,
   "id": "8ad090f7",
   "metadata": {
    "id": "8ad090f7"
   },
   "outputs": [],
   "source": [
    "print(5 > 3 and 10 < 20)\n",
    "print(5 > 3 or 10 > 20)\n",
    "print(not(5 > 3))"
   ]
  },
  {
   "cell_type": "code",
   "execution_count": null,
   "id": "nbaRBTfaWS8a",
   "metadata": {
    "id": "nbaRBTfaWS8a"
   },
   "outputs": [],
   "source": []
  },
  {
   "cell_type": "markdown",
   "id": "z4RPbUjgWTyr",
   "metadata": {
    "id": "z4RPbUjgWTyr"
   },
   "source": [
    "## 9. Estructuras de Control\n",
    "\n",
    "Las estructuras de control en Python son bloques de código que permiten controlar el flujo de ejecución de un programa. Son importantes para tomar decisiones, repetir operaciones y controlar el proceso de ejecución.\n",
    "\n",
    "Las principales estructuras de control en Python son:\n",
    "- Control secuencial: Las instrucciones se ejecutan de manera secuencial.\n",
    "- Control de selección: Se evalúa una condición y se ejecuta uno u otro bloque de instrucciones.\n",
    "- Control de repetición: Se ejecuta un bloque de instrucciones mientras una condición sea verdadera."
   ]
  },
  {
   "cell_type": "markdown",
   "id": "ee3fcdf3",
   "metadata": {
    "id": "ee3fcdf3"
   },
   "source": [
    "### 9.1 Estructuras de Control - Condicionales\n",
    "\n",
    "Las estructuras de control condicionales son instrucciones que permiten a un programa tomar decisiones en función de una condición. Son una parte fundamental de la programación, ya que permiten organizar el flujo de datos, repetir tareas y tomar decisiones.\n",
    "\n",
    "Las estructuras de control condicionales permiten:\n",
    "- Elegir entre la ejecución de una acción u otra\n",
    "- Tomar decisiones sobre la misma variable\n",
    "- Implementar menús de opciones\n",
    "- Optimizar la ejecución del programa\n",
    "- Hacer que los programas sean escalables y fáciles de mantener"
   ]
  },
  {
   "cell_type": "code",
   "execution_count": null,
   "id": "bd114224",
   "metadata": {
    "id": "bd114224"
   },
   "outputs": [],
   "source": [
    "edad = int(input(\"Ingresa tu edad: \"))\n",
    "if edad >= 18:\n",
    "    print(\"Eres mayor de edad\")\n",
    "else:\n",
    "    print(\"Eres menor de edad\")"
   ]
  },
  {
   "cell_type": "markdown",
   "id": "8fc5271a",
   "metadata": {
    "id": "8fc5271a"
   },
   "source": [
    "## 10. Loops, Ciclo o Bucles en Python\n",
    "\n",
    "Los ciclos, o loops, en Python son secuencias de código que se repiten varias veces. Son una herramienta fundamental de la programación que permiten ejecutar un mismo bloque de código mientras se cumpla una condición.\n",
    "Python tiene dos tipos de ciclos:\n",
    "- For :\n",
    "Se utiliza cuando se sabe cuántas veces se repetirá el programa. El ciclo for ejecuta un bloque de código para todos los valores de una secuencia.\n",
    "- While\n",
    "Se utiliza cuando no se sabe cuántas veces se repetirá el programa. El ciclo while ejecuta un bloque de código mientras una condición sea verdadera.\n"
   ]
  },
  {
   "cell_type": "markdown",
   "id": "ZOcMmU_oYyK8",
   "metadata": {
    "id": "ZOcMmU_oYyK8"
   },
   "source": [
    "### 10.1 Ejemplo con el ciclo Python\n",
    "\n",
    "Para construir un ciclo \"for\" en Python, se necesita:\n",
    "- La variable que se iterará\n",
    "- La secuencia sobre la que se iterará\n",
    "- Un bloque de código que se quiere ejecutar repetidamente"
   ]
  },
  {
   "cell_type": "code",
   "execution_count": null,
   "id": "0b6f3c8f",
   "metadata": {
    "id": "0b6f3c8f"
   },
   "outputs": [],
   "source": [
    "# Bucle for\n",
    "for i in range(5):\n",
    "    print(\"Iteración\", i)"
   ]
  },
  {
   "cell_type": "markdown",
   "id": "ffds0RWTY9Hs",
   "metadata": {
    "id": "ffds0RWTY9Hs"
   },
   "source": [
    "### 10.2 Para construir un ciclo \"while\" en Python, se necesita:\n",
    "- La palabra clave while\n",
    "- Una condición que se transmite a True o False\n",
    "- Un bloque de código que se quiere ejecutar repetidamente"
   ]
  },
  {
   "cell_type": "code",
   "execution_count": null,
   "id": "5720b5a3",
   "metadata": {
    "id": "5720b5a3"
   },
   "outputs": [],
   "source": [
    "# Bucle while\n",
    "contador = 0\n",
    "while contador < 5:\n",
    "    print(\"Contador:\", contador)\n",
    "    contador += 1"
   ]
  },
  {
   "cell_type": "markdown",
   "id": "d5dfa04f",
   "metadata": {
    "id": "d5dfa04f"
   },
   "source": [
    "## 11. Funciones en Python\n",
    "\n",
    "Las funciones en Python son bloques de código que se utilizan para agrupar instrucciones que se repiten o son complejas. Son una parte fundamental del lenguaje de programación Python.\n",
    "\n",
    "Las funciones en Python tienen las siguientes características:\n",
    "1. Dividen y organizan el código\n",
    "2. Permiten reutilizar el código\n",
    "3. Reciben datos de entrada, los procesan y devuelven datos de salida\n",
    "\n",
    "Para definir una función en Python se utiliza la palabra clave def."
   ]
  },
  {
   "cell_type": "code",
   "execution_count": null,
   "id": "75e84fa8",
   "metadata": {
    "id": "75e84fa8"
   },
   "outputs": [],
   "source": [
    "# Función sin parámetros\n",
    "def saludar():\n",
    "    print(\"¡Hola, mundo!\")\n",
    "saludar()"
   ]
  },
  {
   "cell_type": "code",
   "execution_count": null,
   "id": "0ed429e8",
   "metadata": {
    "id": "0ed429e8"
   },
   "outputs": [],
   "source": [
    "# Función con argumentos\n",
    "def sumar(a, b):\n",
    "    return a + b\n",
    "print(sumar(5, 3))"
   ]
  },
  {
   "cell_type": "markdown",
   "id": "704cc6fb",
   "metadata": {
    "id": "704cc6fb"
   },
   "source": [
    "## 12. Estructuras de Datos en Python\n",
    "\n",
    "Las estructuras de datos en Python son herramientas que organizan y almacenan datos para facilitar su acceso y manipulación. Son fundamentales para construir programas robustos y optimizar el rendimiento de los algoritmos.\n",
    "\n",
    "Las estructuras de datos en Python se pueden clasificar en primitivas y no primitivas.\n",
    "\n",
    "Estructuras de datos primitivas Integers, Float, String, Boolean.\n",
    "\n",
    "Estructuras de datos no primitivas Listas, Tuplas, Diccionarios, Conjuntos."
   ]
  },
  {
   "cell_type": "code",
   "execution_count": null,
   "id": "55ebd794",
   "metadata": {
    "id": "55ebd794"
   },
   "outputs": [],
   "source": [
    "# Listas\n",
    "mi_lista = [1, 2, 3, 4, 5]\n",
    "mi_lista.append(6)\n",
    "print(mi_lista)"
   ]
  },
  {
   "cell_type": "code",
   "execution_count": null,
   "id": "30daa40e",
   "metadata": {
    "id": "30daa40e"
   },
   "outputs": [],
   "source": [
    "# Tuplas\n",
    "mi_tupla = (1, 2, 3, 4)\n",
    "print(mi_tupla[0])"
   ]
  },
  {
   "cell_type": "code",
   "execution_count": null,
   "id": "e043b79d",
   "metadata": {
    "id": "e043b79d"
   },
   "outputs": [],
   "source": [
    "# Diccionarios\n",
    "diccionario = {\"nombre\": \"Ana\", \"edad\": 25}\n",
    "print(diccionario[\"nombre\"])"
   ]
  },
  {
   "cell_type": "code",
   "execution_count": null,
   "id": "80326f64",
   "metadata": {
    "id": "80326f64"
   },
   "outputs": [],
   "source": [
    "# Sets\n",
    "mi_set = {1, 2, 3, 4}\n",
    "mi_set.add(5)\n",
    "print(mi_set)"
   ]
  },
  {
   "cell_type": "markdown",
   "id": "eac0b10c",
   "metadata": {
    "id": "eac0b10c"
   },
   "source": [
    "## 13. Uso de Librerías en Python"
   ]
  },
  {
   "cell_type": "code",
   "execution_count": null,
   "id": "15c34e07",
   "metadata": {
    "id": "15c34e07"
   },
   "outputs": [],
   "source": [
    "import math\n",
    "print(math.sqrt(25))"
   ]
  },
  {
   "cell_type": "markdown",
   "id": "9dd43cb3",
   "metadata": {
    "id": "9dd43cb3"
   },
   "source": [
    "## 14. ¿Qué es pip?\n",
    "`pip` es el gestor de paquetes de Python. Permite instalar librerías y módulos.\n",
    "\n",
    "Ejemplo:\n",
    "```\n",
    "pip install numpy\n",
    "```"
   ]
  },
  {
   "cell_type": "markdown",
   "id": "29275020",
   "metadata": {
    "id": "29275020"
   },
   "source": [
    "## 15. Proyecto Final - Entrada y Salida de Datos"
   ]
  },
  {
   "cell_type": "code",
   "execution_count": null,
   "id": "ef49f388",
   "metadata": {
    "id": "ef49f388"
   },
   "outputs": [],
   "source": [
    "nombre = input(\"Introduce tu nombre: \")\n",
    "edad = int(input(\"Introduce tu edad: \"))\n",
    "print(f\"Hola {nombre}, tienes {edad} años.\")"
   ]
  }
 ],
 "metadata": {
  "colab": {
   "provenance": []
  },
  "kernelspec": {
   "display_name": "Python (base)",
   "language": "python",
   "name": "base"
  },
  "language_info": {
   "codemirror_mode": {
    "name": "ipython",
    "version": 3
   },
   "file_extension": ".py",
   "mimetype": "text/x-python",
   "name": "python",
   "nbconvert_exporter": "python",
   "pygments_lexer": "ipython3",
   "version": "3.12.2"
  }
 },
 "nbformat": 4,
 "nbformat_minor": 5
}
